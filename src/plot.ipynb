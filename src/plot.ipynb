{
 "cells": [
  {
   "cell_type": "markdown",
   "metadata": {},
   "source": [
    "# Set up database infrastructure"
   ]
  },
  {
   "cell_type": "code",
   "execution_count": null,
   "metadata": {
    "collapsed": true
   },
   "outputs": [],
   "source": [
    "from sqlalchemy import create_engine\n",
    "from sqlalchemy import asc, desc"
   ]
  },
  {
   "cell_type": "code",
   "execution_count": null,
   "metadata": {
    "collapsed": true
   },
   "outputs": [],
   "source": [
    "from sqlalchemy.orm import Session"
   ]
  },
  {
   "cell_type": "code",
   "execution_count": null,
   "metadata": {
    "collapsed": true
   },
   "outputs": [],
   "source": [
    "from sqlalchemy.ext.automap import automap_base"
   ]
  },
  {
   "cell_type": "code",
   "execution_count": null,
   "metadata": {
    "collapsed": true
   },
   "outputs": [],
   "source": [
    "engine = create_engine('sqlite:///measurements.db')"
   ]
  },
  {
   "cell_type": "code",
   "execution_count": null,
   "metadata": {
    "collapsed": true
   },
   "outputs": [],
   "source": [
    "Base = automap_base()\n",
    "Base.prepare(engine, reflect=True)"
   ]
  },
  {
   "cell_type": "code",
   "execution_count": null,
   "metadata": {},
   "outputs": [],
   "source": [
    "Project = Base.classes.projects\n",
    "Password = Base.classes.passwords\n",
    "Salt = Base.classes.salts\n",
    "Klen = Base.classes.klens\n",
    "Round = Base.classes.rounds\n",
    "Block = Base.classes.blocks\n",
    "Column_ = Base.classes.columns\n",
    "Sponge = Base.classes.sponges\n",
    "TimeCost = Base.classes.tcosts\n",
    "MemoryCost = Base.classes.mcosts"
   ]
  },
  {
   "cell_type": "code",
   "execution_count": null,
   "metadata": {
    "collapsed": true
   },
   "outputs": [],
   "source": [
    "Result = Base.classes.results"
   ]
  },
  {
   "cell_type": "code",
   "execution_count": null,
   "metadata": {
    "collapsed": true
   },
   "outputs": [],
   "source": [
    "session = Session(engine)"
   ]
  },
  {
   "cell_type": "markdown",
   "metadata": {},
   "source": [
    "# Set up plotting infrastructure"
   ]
  },
  {
   "cell_type": "code",
   "execution_count": null,
   "metadata": {},
   "outputs": [],
   "source": [
    "import matplotlib.pyplot as plt"
   ]
  },
  {
   "cell_type": "code",
   "execution_count": null,
   "metadata": {},
   "outputs": [],
   "source": [
    "def plot_tcost(project, password, salt, klen, rounds, blocks, columns, sponge, mcost):\n",
    "    project_id = session.query(Project).filter_by(project=project).one().id\n",
    "    password_id = session.query(Password).filter_by(password=password).one().id\n",
    "    salt_id = session.query(Salt).filter_by(salt=salt).one().id\n",
    "    klen_id = session.query(Klen).filter_by(klen=klen).one().id\n",
    "    round_id = session.query(Round).filter_by(rounds=rounds).one().id\n",
    "    block_id = session.query(Block).filter_by(blocks=blocks).one().id\n",
    "    column_id = session.query(Column_).filter_by(columns=columns).one().id\n",
    "    sponge_id = session.query(Sponge).filter_by(sponge=sponge).one().id\n",
    "    mcost_id = session.query(MemoryCost).filter_by(mcost=mcost).one().id\n",
    "    \n",
    "    data = [\n",
    "        (result[1].tcost, result[0].elapsed, result[0].pss_mem, result[0].uss_mem)\n",
    "        for result in session.query(\n",
    "            Result, TimeCost\n",
    "        ).filter_by(\n",
    "            tcost_id=TimeCost.id\n",
    "        ).filter_by(\n",
    "            project_id=project_id\n",
    "            , password_id=password_id\n",
    "            , salt_id=salt_id\n",
    "            , klen_id=klen_id\n",
    "            , round_id=round_id\n",
    "            , block_id=block_id\n",
    "            , column_id=column_id\n",
    "            , sponge_id=sponge_id\n",
    "            , mcost_id=mcost_id\n",
    "        ).order_by(asc(TimeCost.tcost))\n",
    "    ]\n",
    "    \n",
    "    return data"
   ]
  },
  {
   "cell_type": "code",
   "execution_count": null,
   "metadata": {
    "collapsed": true
   },
   "outputs": [],
   "source": [
    "def plot_mcost(project, password, salt, klen, rounds, blocks, columns, sponge, tcost):\n",
    "    project_id = session.query(Project).filter_by(project=project).one().id\n",
    "    password_id = session.query(Password).filter_by(password=password).one().id\n",
    "    salt_id = session.query(Salt).filter_by(salt=salt).one().id\n",
    "    klen_id = session.query(Klen).filter_by(klen=klen).one().id\n",
    "    round_id = session.query(Round).filter_by(rounds=rounds).one().id\n",
    "    block_id = session.query(Block).filter_by(blocks=blocks).one().id\n",
    "    column_id = session.query(Column_).filter_by(columns=columns).one().id\n",
    "    sponge_id = session.query(Sponge).filter_by(sponge=sponge).one().id\n",
    "    tcost_id = session.query(TimeCost).filter_by(tcost=tcost).one().id\n",
    "    \n",
    "    data = [\n",
    "        (result[1].mcost, result[0].elapsed, result[0].pss_mem, result[0].uss_mem)\n",
    "        for result in session.query(\n",
    "            Result, MemoryCost\n",
    "        ).filter_by(\n",
    "            mcost_id=MemoryCost.id\n",
    "        ).filter_by(\n",
    "            project_id=project_id\n",
    "            , password_id=password_id\n",
    "            , salt_id=salt_id\n",
    "            , klen_id=klen_id\n",
    "            , round_id=round_id\n",
    "            , block_id=block_id\n",
    "            , column_id=column_id\n",
    "            , sponge_id=sponge_id\n",
    "            , tcost_id=tcost_id\n",
    "        ).order_by(asc(MemoryCost.mcost))\n",
    "    ]\n",
    "    \n",
    "    return data"
   ]
  },
  {
   "cell_type": "code",
   "execution_count": null,
   "metadata": {},
   "outputs": [],
   "source": [
    "data = plot_mcost('lyra2-c', 'password', 'salt', 10, rounds=12, blocks=12, columns=256, sponge='blake2b', tcost=100)"
   ]
  },
  {
   "cell_type": "markdown",
   "metadata": {},
   "source": [
    "# Draw 2d-comparison plots"
   ]
  },
  {
   "cell_type": "code",
   "execution_count": null,
   "metadata": {},
   "outputs": [],
   "source": [
    "data0 = plot_tcost('lyra2-c', 'password', 'salt', 10, rounds=12, blocks=12, columns=256, sponge='blake2b', mcost=20)\n",
    "data1 = plot_tcost('lyra2-java', 'password', 'salt', 10, rounds=12, blocks=12, columns=256, sponge='blake2b', mcost=20)\n",
    "data2 = plot_tcost('lyra2-c', 'password', 'salt', 10, rounds=12, blocks=12, columns=256, sponge='blamka', mcost=20)\n",
    "data3 = plot_tcost('lyra2-java', 'password', 'salt', 10, rounds=12, blocks=12, columns=256, sponge='blamka', mcost=20)"
   ]
  },
  {
   "cell_type": "code",
   "execution_count": null,
   "metadata": {},
   "outputs": [],
   "source": [
    "fig = plt.figure(figsize=(8, 8.25), dpi=144)\n",
    "\n",
    "ax1 = plt.subplot2grid((3, 2), (0, 0))\n",
    "ax2 = plt.subplot2grid((3, 2), (0, 1),             sharey=ax1)\n",
    "ax3 = plt.subplot2grid((3, 2), (1, 0), sharex=ax1)\n",
    "ax4 = plt.subplot2grid((3, 2), (1, 1), sharex=ax2, sharey=ax3)\n",
    "ax5 = plt.subplot2grid((3, 2), (2, 0), sharex=ax1)\n",
    "ax6 = plt.subplot2grid((3, 2), (2, 1), sharex=ax2, sharey=ax5)\n",
    "\n",
    "ax1.set_title('blake2b')\n",
    "ax1.plot([d[0] for d in data0], [d[1] for d in data0], '.--', label='lyra2-c')\n",
    "ax1.plot([d[0] for d in data1], [d[1] for d in data1], 'd--', label='lyra2-java')\n",
    "ax1.set_ylabel('time (seconds)')\n",
    "ax1.legend(loc='upper left')\n",
    "\n",
    "ax2.set_title('blamka')\n",
    "ax2.plot([d[0] for d in data2], [d[1] for d in data2], '.--', label='lyra2-c')\n",
    "ax2.plot([d[0] for d in data3], [d[1] for d in data3], 'd--', label='lyra2-java')\n",
    "ax2.legend(loc='upper left')\n",
    "\n",
    "denom = 1024 * 1024\n",
    "\n",
    "ax3.plot([d[0] for d in data0], [d[2] / denom for d in data0], '.--', label='lyra2-c')\n",
    "ax3.plot([d[0] for d in data1], [d[2] / denom for d in data1], 'd--', label='lyra2-java')\n",
    "ax3.set_ylabel('shared memory (MiB)')\n",
    "ax3.legend(loc='center right')\n",
    "\n",
    "ax4.plot([d[0] for d in data2], [d[2] / denom for d in data2], '.--', label='lyra2-c')\n",
    "ax4.plot([d[0] for d in data3], [d[2] / denom for d in data3], 'd--', label='lyra2-java')\n",
    "ax4.legend(loc='center right')\n",
    "\n",
    "ax5.plot([d[0] for d in data0], [d[3] / denom for d in data0], '.--', label='lyra2-c')\n",
    "ax5.plot([d[0] for d in data1], [d[3] / denom for d in data1], 'd--', label='lyra2-java')\n",
    "ax5.set_xlabel('time cost')\n",
    "ax5.set_ylabel('private memory (MiB)')\n",
    "ax5.legend(loc='center right')\n",
    "\n",
    "ax6.plot([d[0] for d in data2], [d[3] / denom for d in data2], '.--', label='lyra2-c')\n",
    "ax6.plot([d[0] for d in data3], [d[3] / denom for d in data3], 'd--', label='lyra2-java')\n",
    "ax6.set_xlabel('time cost')\n",
    "ax6.legend(loc='center right')\n",
    "\n",
    "plt.setp(ax1.get_xticklabels(), visible=False)\n",
    "plt.setp(ax2.get_xticklabels(), visible=False)\n",
    "plt.setp(ax3.get_xticklabels(), visible=False)\n",
    "plt.setp(ax4.get_xticklabels(), visible=False)\n",
    "plt.setp(ax2.get_yticklabels(), visible=False)\n",
    "plt.setp(ax4.get_yticklabels(), visible=False)\n",
    "plt.setp(ax6.get_yticklabels(), visible=False)\n",
    "\n",
    "plt.tight_layout()\n",
    "plt.show()"
   ]
  },
  {
   "cell_type": "code",
   "execution_count": null,
   "metadata": {
    "collapsed": true
   },
   "outputs": [],
   "source": [
    "data0 = plot_mcost('lyra2-c', 'password', 'salt', 10, rounds=12, blocks=12, columns=256, sponge='blake2b', tcost=10)\n",
    "data1 = plot_mcost('lyra2-java', 'password', 'salt', 10, rounds=12, blocks=12, columns=256, sponge='blake2b', tcost=10)\n",
    "data2 = plot_mcost('lyra2-c', 'password', 'salt', 10, rounds=12, blocks=12, columns=256, sponge='blamka', tcost=10)\n",
    "data3 = plot_mcost('lyra2-java', 'password', 'salt', 10, rounds=12, blocks=12, columns=256, sponge='blamka', tcost=10)"
   ]
  },
  {
   "cell_type": "code",
   "execution_count": null,
   "metadata": {},
   "outputs": [],
   "source": [
    "fig = plt.figure(figsize=(8, 8.25), dpi=144)\n",
    "\n",
    "ax1 = plt.subplot2grid((3, 2), (0, 0))\n",
    "ax2 = plt.subplot2grid((3, 2), (0, 1),             sharey=ax1)\n",
    "ax3 = plt.subplot2grid((3, 2), (1, 0), sharex=ax1)\n",
    "ax4 = plt.subplot2grid((3, 2), (1, 1), sharex=ax2, sharey=ax3)\n",
    "ax5 = plt.subplot2grid((3, 2), (2, 0), sharex=ax1)\n",
    "ax6 = plt.subplot2grid((3, 2), (2, 1), sharex=ax2, sharey=ax5)\n",
    "\n",
    "ax1.set_title('blake2b')\n",
    "ax1.plot([d[0] for d in data0], [d[1] for d in data0], '.--', label='lyra2-c')\n",
    "ax1.plot([d[0] for d in data1], [d[1] for d in data1], 'd--', label='lyra2-java')\n",
    "ax1.set_ylabel('time (seconds)')\n",
    "ax1.legend(loc='upper left')\n",
    "\n",
    "ax2.set_title('blamka')\n",
    "ax2.plot([d[0] for d in data2], [d[1] for d in data2], '.--', label='lyra2-c')\n",
    "ax2.plot([d[0] for d in data3], [d[1] for d in data3], 'd--', label='lyra2-java')\n",
    "ax2.legend(loc='upper left')\n",
    "\n",
    "denom = 1024 * 1024\n",
    "\n",
    "ax3.plot([d[0] for d in data0], [d[2] / denom for d in data0], '.--', label='lyra2-c')\n",
    "ax3.plot([d[0] for d in data1], [d[2] / denom for d in data1], 'd--', label='lyra2-java')\n",
    "ax3.set_ylabel('shared memory (MiB)')\n",
    "ax3.legend(loc='center right')\n",
    "\n",
    "ax4.plot([d[0] for d in data2], [d[2] / denom for d in data2], '.--', label='lyra2-c')\n",
    "ax4.plot([d[0] for d in data3], [d[2] / denom for d in data3], 'd--', label='lyra2-java')\n",
    "ax4.legend(loc='center right')\n",
    "\n",
    "ax5.plot([d[0] for d in data0], [d[3] / denom for d in data0], '.--', label='lyra2-c')\n",
    "ax5.plot([d[0] for d in data1], [d[3] / denom for d in data1], 'd--', label='lyra2-java')\n",
    "ax5.set_xlabel('memory cost')\n",
    "ax5.set_ylabel('private memory (MiB)')\n",
    "ax5.legend(loc='center right')\n",
    "\n",
    "ax6.plot([d[0] for d in data2], [d[3] / denom for d in data2], '.--', label='lyra2-c')\n",
    "ax6.plot([d[0] for d in data3], [d[3] / denom for d in data3], 'd--', label='lyra2-java')\n",
    "ax6.set_xlabel('memory cost')\n",
    "ax6.set_ylabel('private memory (MiB)')\n",
    "ax6.legend(loc='center right')\n",
    "\n",
    "plt.setp(ax1.get_xticklabels(), visible=False)\n",
    "plt.setp(ax2.get_xticklabels(), visible=False)\n",
    "plt.setp(ax3.get_xticklabels(), visible=False)\n",
    "plt.setp(ax4.get_xticklabels(), visible=False)\n",
    "plt.setp(ax2.get_yticklabels(), visible=False)\n",
    "plt.setp(ax4.get_yticklabels(), visible=False)\n",
    "plt.setp(ax6.get_yticklabels(), visible=False)\n",
    "\n",
    "plt.tight_layout()\n",
    "plt.show()"
   ]
  }
 ],
 "metadata": {
  "kernelspec": {
   "display_name": "Python (lyra2-compare-venv-3.6.2)",
   "language": "python",
   "name": "lyra2-compare-venv-3.6.2"
  },
  "language_info": {
   "codemirror_mode": {
    "name": "ipython",
    "version": 3
   },
   "file_extension": ".py",
   "mimetype": "text/x-python",
   "name": "python",
   "nbconvert_exporter": "python",
   "pygments_lexer": "ipython3",
   "version": "3.6.2"
  }
 },
 "nbformat": 4,
 "nbformat_minor": 2
}
