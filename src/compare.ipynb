{
 "cells": [
  {
   "cell_type": "code",
   "execution_count": null,
   "metadata": {
    "collapsed": true
   },
   "outputs": [],
   "source": [
    "import sys\n",
    "import yaml\n",
    "import itertools\n",
    "import subprocess\n",
    "import multiprocessing"
   ]
  },
  {
   "cell_type": "code",
   "execution_count": null,
   "metadata": {
    "collapsed": true
   },
   "outputs": [],
   "source": [
    "from pathlib import Path"
   ]
  },
  {
   "cell_type": "markdown",
   "metadata": {},
   "source": [
    "# Compile original Lyra2 implementations"
   ]
  },
  {
   "cell_type": "markdown",
   "metadata": {},
   "source": [
    "Need to import python functions that compile Lyra from a git submodule. Manipulate path as per https://stackoverflow.com/a/29747054/1269892"
   ]
  },
  {
   "cell_type": "code",
   "execution_count": null,
   "metadata": {
    "collapsed": true
   },
   "outputs": [],
   "source": [
    "sys.path.append(str(Path('../lyra/Lyra2/tests').resolve()))"
   ]
  },
  {
   "cell_type": "code",
   "execution_count": null,
   "metadata": {
    "collapsed": true
   },
   "outputs": [],
   "source": [
    "from harness import build_lyra2, unlist_values\n",
    "from harness import compose_sponge_name, compose_lyra2_name"
   ]
  },
  {
   "cell_type": "code",
   "execution_count": null,
   "metadata": {
    "collapsed": true
   },
   "outputs": [],
   "source": [
    "with open('harness.yml', 'r') as config:\n",
    "    params = yaml.load(config)"
   ]
  },
  {
   "cell_type": "code",
   "execution_count": null,
   "metadata": {
    "collapsed": true
   },
   "outputs": [],
   "source": [
    "build_lyra2(params)"
   ]
  },
  {
   "cell_type": "code",
   "execution_count": null,
   "metadata": {
    "collapsed": true
   },
   "outputs": [],
   "source": [
    "build_path0 = Path('./bin42').resolve()\n",
    "if not build_path0.exists():\n",
    "    print('Could not find ./bin42, directory for original executables')"
   ]
  },
  {
   "cell_type": "markdown",
   "metadata": {},
   "source": [
    "# Compile ported Java implementation"
   ]
  },
  {
   "cell_type": "code",
   "execution_count": null,
   "metadata": {},
   "outputs": [],
   "source": [
    "subprocess.run(['mvn', 'package', '-f', '../lyra2-java', '-Plyra2-compare', '-DskipTests'])"
   ]
  },
  {
   "cell_type": "code",
   "execution_count": null,
   "metadata": {
    "collapsed": true
   },
   "outputs": [],
   "source": [
    "build_path1 = Path('./target').resolve()\n",
    "if not build_path1.exists():\n",
    "    print('Could not ./target, directory for compiled executables')"
   ]
  },
  {
   "cell_type": "markdown",
   "metadata": {},
   "source": [
    "# Class to measure time and memory usage"
   ]
  },
  {
   "cell_type": "markdown",
   "metadata": {},
   "source": [
    "Resources used for memory measurements: https://stackoverflow.com/questions/22372960/is-this-explanation-about-vss-rss-pss-uss-accurate"
   ]
  },
  {
   "cell_type": "code",
   "execution_count": null,
   "metadata": {
    "collapsed": true
   },
   "outputs": [],
   "source": [
    "import time\n",
    "import psutil"
   ]
  },
  {
   "cell_type": "code",
   "execution_count": null,
   "metadata": {
    "collapsed": true
   },
   "outputs": [],
   "source": [
    "from statistics import median"
   ]
  },
  {
   "cell_type": "code",
   "execution_count": null,
   "metadata": {
    "collapsed": true
   },
   "outputs": [],
   "source": [
    "class ProcessObserver:\n",
    "    def __init__(self, ntimes=3, mtimes=3):\n",
    "        # Number of times to measure elapsed time\n",
    "        self.ntimes = ntimes\n",
    "        # Number of times to measure consumed memory\n",
    "        self.mtimes = mtimes\n",
    "\n",
    "    def run(self, *args):\n",
    "        # Run the process self.ntimes and see how long it takes\n",
    "        times = [-1 for i in range(self.ntimes)]\n",
    "        for i in range(self.ntimes):\n",
    "            fst = time.time()\n",
    "            \n",
    "            process = subprocess.run(*args)\n",
    "                        \n",
    "            lst = time.time()\n",
    "            \n",
    "            if process.returncode != 0:\n",
    "                print(args[0][0] + ' failed to run')\n",
    "\n",
    "                continue\n",
    "            \n",
    "            elapsed = lst - fst # seconds\n",
    "                \n",
    "            if elapsed > 300:\n",
    "                print(args[0][0] + ' has been running for: ' + elapsed)\n",
    "            \n",
    "            times[i] = elapsed\n",
    "            \n",
    "        mtime = median(times)\n",
    "        \n",
    "        process = subprocess.Popen(*args)\n",
    "        \n",
    "        # Approximate running time of the process is known\n",
    "        # The process has just been started asynchronously\n",
    "        # Measure its memory usage (which is complicated)\n",
    "        pss_mems = [-1 for i in range(self.mtimes)]\n",
    "        uss_mems = [-1 for i in range(self.mtimes)]\n",
    "        for i in range(self.mtimes):\n",
    "            if process.poll() is not None:\n",
    "                break # the process no longer runs, break\n",
    "\n",
    "            # the process will finish when you least expect it\n",
    "            # so wrap everything into try-except and handle it\n",
    "            try:\n",
    "                p = psutil.Process(process.pid)\n",
    "                mem = p.memory_full_info()\n",
    "\n",
    "                # total private memory + proporional size for the 3pp libraries\n",
    "                pss_mems[i] = mem.pss\n",
    "                # total private memory of a process (unique to the process)\n",
    "                uss_mems[i] = mem.uss\n",
    "            except: \n",
    "                break # the process no longer runs, break\n",
    "\n",
    "            time.sleep(max(0, mtime / self.mtimes))\n",
    "            \n",
    "            \n",
    "        return [median(times), max(pss_mems), max(uss_mems)]"
   ]
  },
  {
   "cell_type": "markdown",
   "metadata": {},
   "source": [
    "# Prepare database schema"
   ]
  },
  {
   "cell_type": "code",
   "execution_count": null,
   "metadata": {
    "collapsed": true
   },
   "outputs": [],
   "source": [
    "from sqlalchemy import create_engine\n",
    "from sqlalchemy import Column, ForeignKey\n",
    "from sqlalchemy import Integer, BigInteger, String, Float"
   ]
  },
  {
   "cell_type": "code",
   "execution_count": null,
   "metadata": {
    "collapsed": true
   },
   "outputs": [],
   "source": [
    "from sqlalchemy.sql import exists\n",
    "from sqlalchemy.orm import sessionmaker, relationship\n",
    "from sqlalchemy.orm.exc import NoResultFound\n",
    "from sqlalchemy.ext.declarative import declarative_base"
   ]
  },
  {
   "cell_type": "code",
   "execution_count": null,
   "metadata": {
    "collapsed": true
   },
   "outputs": [],
   "source": [
    "Base = declarative_base()"
   ]
  },
  {
   "cell_type": "code",
   "execution_count": null,
   "metadata": {
    "collapsed": true
   },
   "outputs": [],
   "source": [
    "class Project(Base):\n",
    "    __tablename__ = 'projects'\n",
    "    \n",
    "    id = Column(Integer, primary_key=True)\n",
    "    project = Column(String)\n",
    "\n",
    "class Password(Base):\n",
    "    __tablename__ = 'passwords'\n",
    "    \n",
    "    id = Column(Integer, primary_key=True)\n",
    "    password = Column(String)\n",
    "    \n",
    "class Salt(Base):\n",
    "    __tablename__ = 'salts'\n",
    "    \n",
    "    id = Column(Integer, primary_key=True)\n",
    "    salt = Column(String)\n",
    "    \n",
    "class Klen(Base):\n",
    "    __tablename__ = 'klens'\n",
    "    \n",
    "    id = Column(Integer, primary_key=True)\n",
    "    klen = Column(Integer)\n",
    "    \n",
    "class Block(Base):\n",
    "    __tablename__ = 'blocks'\n",
    "    \n",
    "    id = Column(Integer, primary_key=True)\n",
    "    blocks = Column(Integer)\n",
    "    \n",
    "\n",
    "class Column_(Base):\n",
    "    __tablename__ = 'columns'\n",
    "    \n",
    "    id = Column(Integer, primary_key=True)\n",
    "    columns = Column(Integer)\n",
    "    \n",
    "class Round(Base):\n",
    "    __tablename__ = 'rounds'\n",
    "    \n",
    "    id = Column(Integer, primary_key=True)\n",
    "    rounds = Column(Integer)\n",
    "\n",
    "class Sponge(Base):\n",
    "    __tablename__ = 'sponges'\n",
    "    \n",
    "    id = Column(Integer, primary_key=True)\n",
    "    sponge = Column(String)\n",
    "\n",
    "class TimeCost(Base):\n",
    "    __tablename__ = 'tcosts'\n",
    "    \n",
    "    id = Column(Integer, primary_key=True)\n",
    "    tcost = Column(Integer)\n",
    "    \n",
    "class MemoryCost(Base):\n",
    "    __tablename__ = 'mcosts'\n",
    "    \n",
    "    id = Column(Integer, primary_key=True)\n",
    "    mcost = Column(Integer)\n",
    "\n",
    "class Result(Base):\n",
    "    __tablename__ = 'results'\n",
    "    \n",
    "    id = Column(Integer, primary_key=True)\n",
    "    \n",
    "    elapsed = Column(Float)\n",
    "    pss_mem = Column(BigInteger)\n",
    "    uss_mem = Column(BigInteger)\n",
    "    \n",
    "    project_id = Column(Integer, ForeignKey('projects.id'))\n",
    "    \n",
    "    password_id = Column(Integer, ForeignKey('passwords.id'))\n",
    "    salt_id = Column(Integer, ForeignKey('salts.id'))\n",
    "    klen_id = Column(Integer, ForeignKey('klens.id'))\n",
    "    \n",
    "    round_id = Column(Integer, ForeignKey('rounds.id'))\n",
    "    block_id = Column(Integer, ForeignKey('blocks.id'))\n",
    "    \n",
    "    column_id = Column(Integer, ForeignKey('columns.id'))\n",
    "    sponge_id = Column(Integer, ForeignKey('sponges.id'))\n",
    "    \n",
    "    tcost_id = Column(Integer, ForeignKey('tcosts.id'))\n",
    "    mcost_id = Column(Integer, ForeignKey('mcosts.id'))\n",
    "    \n",
    "    project = relationship('Project', back_populates='results')\n",
    "    \n",
    "    password = relationship('Password', back_populates='results')\n",
    "    salt = relationship('Salt', back_populates='results')\n",
    "    klen = relationship('Klen', back_populates='results')\n",
    "    \n",
    "    rounds = relationship('Round', back_populates='results')\n",
    "    blocks = relationship('Block', back_populates='results')\n",
    "    columns = relationship('Column_', back_populates='results')\n",
    "    \n",
    "    sponge = relationship('Sponge', back_populates='results')\n",
    "    \n",
    "    tcost = relationship('TimeCost', back_populates='results')\n",
    "    mcost = relationship('MemoryCost', back_populates='results')"
   ]
  },
  {
   "cell_type": "code",
   "execution_count": null,
   "metadata": {},
   "outputs": [],
   "source": [
    "Project.results = relationship('Result', back_populates='project')\n",
    "Password.results = relationship('Result', back_populates='password')\n",
    "Salt.results = relationship('Result', back_populates='salt')\n",
    "Klen.results = relationship('Result', back_populates='klen')\n",
    "Round.results = relationship('Result', back_populates='rounds')\n",
    "Block.results = relationship('Result', back_populates='blocks')\n",
    "Column_.results = relationship('Result', back_populates='columns')\n",
    "Sponge.results = relationship('Result', back_populates='sponge')\n",
    "\n",
    "TimeCost.results = relationship('Result', back_populates='tcost')\n",
    "MemoryCost.results = relationship('Result', back_populates='mcost')"
   ]
  },
  {
   "cell_type": "code",
   "execution_count": null,
   "metadata": {
    "collapsed": true
   },
   "outputs": [],
   "source": [
    "engine = create_engine('sqlite:///measurements.db')\n",
    "Base.metadata.create_all(engine)\n",
    "Session = sessionmaker(bind=engine)"
   ]
  },
  {
   "cell_type": "code",
   "execution_count": null,
   "metadata": {
    "collapsed": true
   },
   "outputs": [],
   "source": [
    "session = Session()"
   ]
  },
  {
   "cell_type": "markdown",
   "metadata": {},
   "source": [
    "# Prepare the data"
   ]
  },
  {
   "cell_type": "code",
   "execution_count": null,
   "metadata": {
    "collapsed": true
   },
   "outputs": [],
   "source": [
    "projects = ['lyra2-c', 'lyra2-java']"
   ]
  },
  {
   "cell_type": "code",
   "execution_count": null,
   "metadata": {
    "collapsed": true
   },
   "outputs": [],
   "source": [
    "passwords, salts, klens = ['password'], ['salt'], [10]"
   ]
  },
  {
   "cell_type": "code",
   "execution_count": null,
   "metadata": {
    "collapsed": true
   },
   "outputs": [],
   "source": [
    "tcosts = [1, 20, 40, 60, 80, 100]"
   ]
  },
  {
   "cell_type": "code",
   "execution_count": null,
   "metadata": {
    "collapsed": true
   },
   "outputs": [],
   "source": [
    "mcosts = [3, 20, 40, 60, 80, 100]"
   ]
  },
  {
   "cell_type": "code",
   "execution_count": null,
   "metadata": {},
   "outputs": [],
   "source": [
    "for project in projects:\n",
    "    try:\n",
    "        session.query(Project).filter_by(project=project).one()\n",
    "    except NoResultFound:\n",
    "        session.add(Project(project=project))"
   ]
  },
  {
   "cell_type": "code",
   "execution_count": null,
   "metadata": {
    "collapsed": true
   },
   "outputs": [],
   "source": [
    "for password in passwords:\n",
    "    try:\n",
    "        session.query(Password).filter_by(password=password).one()\n",
    "    except NoResultFound:\n",
    "        session.add(Password(password=password))"
   ]
  },
  {
   "cell_type": "code",
   "execution_count": null,
   "metadata": {
    "collapsed": true
   },
   "outputs": [],
   "source": [
    "for salt in salts:\n",
    "    try:\n",
    "        session.query(Salt).filter_by(salt=salt).one()\n",
    "    except NoResultFound:\n",
    "        session.add(Salt(salt=salt))"
   ]
  },
  {
   "cell_type": "code",
   "execution_count": null,
   "metadata": {},
   "outputs": [],
   "source": [
    "for klen in klens:\n",
    "    try:\n",
    "        session.query(Klen).filter_by(klen=klen).one()\n",
    "    except NoResultFound:\n",
    "        session.add(Klen(klen=klen))"
   ]
  },
  {
   "cell_type": "code",
   "execution_count": null,
   "metadata": {
    "collapsed": true
   },
   "outputs": [],
   "source": [
    "for tcost in tcosts:\n",
    "    try:\n",
    "        session.query(TimeCost).filter_by(tcost=tcost).one()\n",
    "    except NoResultFound:\n",
    "        session.add(TimeCost(tcost=tcost))"
   ]
  },
  {
   "cell_type": "code",
   "execution_count": null,
   "metadata": {
    "collapsed": true
   },
   "outputs": [],
   "source": [
    "for mcost in mcosts:\n",
    "    try:\n",
    "        session.query(MemoryCost).filter_by(mcost=mcost).one()\n",
    "    except NoResultFound:\n",
    "        session.add(MemoryCost(mcost=mcost))"
   ]
  },
  {
   "cell_type": "code",
   "execution_count": null,
   "metadata": {},
   "outputs": [],
   "source": [
    "for blocks in params['matrix']['blocks']:\n",
    "    try:\n",
    "        session.query(Block).filter_by(blocks=blocks).one()\n",
    "    except NoResultFound:\n",
    "        session.add(Block(blocks=blocks))"
   ]
  },
  {
   "cell_type": "code",
   "execution_count": null,
   "metadata": {
    "collapsed": true
   },
   "outputs": [],
   "source": [
    "for rounds in params['matrix']['rounds']:\n",
    "    try:\n",
    "        session.query(Round).filter_by(rounds=rounds).one()\n",
    "    except NoResultFound:\n",
    "        session.add(Round(rounds=rounds))"
   ]
  },
  {
   "cell_type": "code",
   "execution_count": null,
   "metadata": {
    "collapsed": true
   },
   "outputs": [],
   "source": [
    "for columns in params['matrix']['columns']:\n",
    "    try:\n",
    "        session.query(Column_).filter_by(columns=columns).one()\n",
    "    except NoResultFound:\n",
    "        session.add(Column_(columns=columns))"
   ]
  },
  {
   "cell_type": "code",
   "execution_count": null,
   "metadata": {
    "collapsed": true
   },
   "outputs": [],
   "source": [
    "for sponge in params['matrix']['sponge']:\n",
    "    [sponge, _] = compose_sponge_name(sponge)\n",
    "    try:\n",
    "        session.query(Sponge).filter_by(sponge=sponge).one()\n",
    "    except NoResultFound:\n",
    "        session.add(Sponge(sponge=sponge))"
   ]
  },
  {
   "cell_type": "code",
   "execution_count": null,
   "metadata": {
    "collapsed": true
   },
   "outputs": [],
   "source": [
    "session.commit()\n",
    "session.close()"
   ]
  },
  {
   "cell_type": "markdown",
   "metadata": {},
   "source": [
    "# Perform the measurements"
   ]
  },
  {
   "cell_type": "code",
   "execution_count": null,
   "metadata": {},
   "outputs": [],
   "source": [
    "observer = ProcessObserver(ntimes=1, mtimes=5)"
   ]
  },
  {
   "cell_type": "code",
   "execution_count": null,
   "metadata": {
    "collapsed": true
   },
   "outputs": [],
   "source": [
    "matrix = params['matrix']"
   ]
  },
  {
   "cell_type": "code",
   "execution_count": null,
   "metadata": {
    "collapsed": true
   },
   "outputs": [],
   "source": [
    "def run_one_configuration(project, password, salt, klen, tcost, mcost, blocks, rounds, columns, sponge):\n",
    "    \n",
    "    session = Session()\n",
    "\n",
    "    option = matrix['option']\n",
    "    threads = matrix['threads']\n",
    "    bench = matrix['bench']\n",
    "\n",
    "    [sponge, _] = compose_sponge_name(sponge)\n",
    "\n",
    "    name = compose_lyra2_name(\n",
    "        option, threads, columns, sponge, rounds, blocks\n",
    "    )\n",
    "    \n",
    "    if project == 'lyra2-c':\n",
    "        executable = build_path0.joinpath(name)\n",
    "    else:\n",
    "        # Java implementataion accepts sponge type, number of rounds etc as runtime parameters\n",
    "        executable = build_path1.joinpath('lyra2-1.3-SNAPSHOT-jar-with-dependencies.jar')\n",
    "    \n",
    "    project_id = session.query(Project).filter_by(project=project).one().id\n",
    "    password_id = session.query(Password).filter_by(password=password).one().id\n",
    "    salt_id = session.query(Salt).filter_by(salt=salt).one().id\n",
    "    klen_id = session.query(Klen).filter_by(klen=klen).one().id\n",
    "    round_id = session.query(Round).filter_by(rounds=rounds).one().id\n",
    "    block_id = session.query(Block).filter_by(blocks=blocks).one().id\n",
    "    column_id = session.query(Column_).filter_by(columns=columns).one().id\n",
    "    sponge_id = session.query(Sponge).filter_by(sponge=sponge).one().id\n",
    "    tcost_id = session.query(TimeCost).filter_by(tcost=tcost).one().id\n",
    "    mcost_id = session.query(MemoryCost).filter_by(mcost=mcost).one().id\n",
    "\n",
    "    try:\n",
    "        result = session.query(Result).filter_by(\n",
    "            project_id=project_id\n",
    "            , password_id=password_id\n",
    "            , salt_id=salt_id\n",
    "            , klen_id=klen_id\n",
    "            , round_id=round_id\n",
    "            , block_id=block_id\n",
    "            , column_id=column_id\n",
    "            , sponge_id=sponge_id\n",
    "            , tcost_id=tcost_id\n",
    "            , mcost_id=mcost_id\n",
    "        ).one()\n",
    "\n",
    "        print('(cached) ' + project + ': ' + name)\n",
    "        print((result.elapsed, result.pss_mem, result.uss_mem))\n",
    "\n",
    "    except NoResultFound:\n",
    "        if project == 'lyra2-c':\n",
    "            elapsed, pss_mem, uss_mem = observer.run([\n",
    "                executable\n",
    "                , password\n",
    "                , salt\n",
    "                , str(klen)\n",
    "                , str(tcost)\n",
    "                , str(mcost)\n",
    "            ])\n",
    "        else:\n",
    "            elapsed, pss_mem, uss_mem = observer.run([\n",
    "                'java'\n",
    "                , '-jar'\n",
    "                , str(executable)\n",
    "                , '--blocks', str(blocks)\n",
    "                , '--columns', str(columns)\n",
    "                , '--full-rounds', str(rounds)\n",
    "                , '--sponge', sponge\n",
    "                , password\n",
    "                , salt\n",
    "                , str(klen)\n",
    "                , str(tcost)\n",
    "                , str(mcost)\n",
    "            ])\n",
    "\n",
    "        session.add(Result(\n",
    "            elapsed=elapsed\n",
    "            , pss_mem=pss_mem\n",
    "            , uss_mem=uss_mem\n",
    "            , project_id=project_id\n",
    "            , password_id=password_id\n",
    "            , salt_id=salt_id\n",
    "            , klen_id=klen_id\n",
    "            , round_id=round_id\n",
    "            , block_id=block_id\n",
    "            , column_id=column_id\n",
    "            , sponge_id=sponge_id\n",
    "            , tcost_id=tcost_id\n",
    "            , mcost_id=mcost_id\n",
    "        ))\n",
    "                \n",
    "        session.commit()\n",
    "        session.close()\n",
    "\n",
    "        print('(new) ' + project + ': ' + name)\n",
    "        print((elapsed, pss_mem, uss_mem))"
   ]
  },
  {
   "cell_type": "code",
   "execution_count": null,
   "metadata": {},
   "outputs": [],
   "source": [
    "with multiprocessing.Pool(4) as pool:\n",
    "    pool.starmap(run_one_configuration, itertools.product(projects, passwords, salts, klens, tcosts, mcosts, matrix['blocks'], matrix['rounds'], matrix['columns'], matrix['sponge']), 10)"
   ]
  }
 ],
 "metadata": {
  "kernelspec": {
   "display_name": "Python (lyra2-compare-venv-3.6.2)",
   "language": "python",
   "name": "lyra2-compare-venv-3.6.2"
  },
  "language_info": {
   "codemirror_mode": {
    "name": "ipython",
    "version": 3
   },
   "file_extension": ".py",
   "mimetype": "text/x-python",
   "name": "python",
   "nbconvert_exporter": "python",
   "pygments_lexer": "ipython3",
   "version": "3.6.2"
  }
 },
 "nbformat": 4,
 "nbformat_minor": 2
}
