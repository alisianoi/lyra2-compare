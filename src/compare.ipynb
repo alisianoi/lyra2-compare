{
 "cells": [
  {
   "cell_type": "code",
   "execution_count": 22,
   "metadata": {
    "collapsed": true
   },
   "outputs": [],
   "source": [
    "import sys\n",
    "import yaml\n",
    "import itertools\n",
    "import subprocess\n",
    "import multiprocessing"
   ]
  },
  {
   "cell_type": "code",
   "execution_count": 23,
   "metadata": {
    "collapsed": true
   },
   "outputs": [],
   "source": [
    "from pathlib import Path"
   ]
  },
  {
   "cell_type": "markdown",
   "metadata": {},
   "source": [
    "# Compile original Lyra2 implementations"
   ]
  },
  {
   "cell_type": "markdown",
   "metadata": {},
   "source": [
    "Need to import python functions that compile Lyra from a git submodule. Manipulate path as per https://stackoverflow.com/a/29747054/1269892"
   ]
  },
  {
   "cell_type": "code",
   "execution_count": 24,
   "metadata": {
    "collapsed": true
   },
   "outputs": [],
   "source": [
    "sys.path.append(str(Path('../lyra/Lyra2/tests').resolve()))"
   ]
  },
  {
   "cell_type": "code",
   "execution_count": 25,
   "metadata": {
    "collapsed": true
   },
   "outputs": [],
   "source": [
    "from harness import build_lyra2, unlist_values\n",
    "from harness import compose_sponge_name, compose_lyra2_name"
   ]
  },
  {
   "cell_type": "code",
   "execution_count": 26,
   "metadata": {
    "collapsed": true
   },
   "outputs": [],
   "source": [
    "with open('harness.yml', 'r') as config:\n",
    "    params = yaml.load(config)"
   ]
  },
  {
   "cell_type": "code",
   "execution_count": 27,
   "metadata": {
    "collapsed": true
   },
   "outputs": [],
   "source": [
    "build_lyra2(params)"
   ]
  },
  {
   "cell_type": "code",
   "execution_count": 28,
   "metadata": {
    "collapsed": true
   },
   "outputs": [],
   "source": [
    "build_path0 = Path('./bin42').resolve()\n",
    "if not build_path0.exists():\n",
    "    print('Could not find ./bin42, directory for original executables')"
   ]
  },
  {
   "cell_type": "markdown",
   "metadata": {},
   "source": [
    "# Compile ported Java implementation"
   ]
  },
  {
   "cell_type": "code",
   "execution_count": 29,
   "metadata": {},
   "outputs": [
    {
     "data": {
      "text/plain": [
       "CompletedProcess(args=['mvn', 'package', '-f', '../lyra2-java', '-Plyra2-compare', '-DskipTests'], returncode=0)"
      ]
     },
     "execution_count": 29,
     "metadata": {},
     "output_type": "execute_result"
    }
   ],
   "source": [
    "subprocess.run(['mvn', 'package', '-f', '../lyra2-java', '-Plyra2-compare', '-DskipTests'])"
   ]
  },
  {
   "cell_type": "code",
   "execution_count": 30,
   "metadata": {
    "collapsed": true
   },
   "outputs": [],
   "source": [
    "build_path1 = Path('./target').resolve()\n",
    "if not build_path1.exists():\n",
    "    print('Could not ./target, directory for compiled executables')"
   ]
  },
  {
   "cell_type": "markdown",
   "metadata": {},
   "source": [
    "# Class to measure time and memory usage"
   ]
  },
  {
   "cell_type": "markdown",
   "metadata": {},
   "source": [
    "Resources used for memory measurements:\n",
    "\n",
    "https://stackoverflow.com/questions/22372960/is-this-explanation-about-vss-rss-pss-uss-accurate"
   ]
  },
  {
   "cell_type": "code",
   "execution_count": 31,
   "metadata": {
    "collapsed": true
   },
   "outputs": [],
   "source": [
    "import time\n",
    "import psutil"
   ]
  },
  {
   "cell_type": "code",
   "execution_count": 32,
   "metadata": {
    "collapsed": true
   },
   "outputs": [],
   "source": [
    "from statistics import median"
   ]
  },
  {
   "cell_type": "code",
   "execution_count": 33,
   "metadata": {
    "collapsed": true
   },
   "outputs": [],
   "source": [
    "class ProcessObserver:\n",
    "    def __init__(self, ntimes=3, mtimes=3):\n",
    "        # Number of times to measure elapsed time\n",
    "        self.ntimes = ntimes\n",
    "        # Number of times to measure consumed memory\n",
    "        self.mtimes = mtimes\n",
    "\n",
    "    def run(self, *args):\n",
    "        # Run the process self.ntimes and see how long it takes\n",
    "        times = [-1 for i in range(self.ntimes)]\n",
    "        for i in range(self.ntimes):\n",
    "            fst = time.time()\n",
    "            \n",
    "            process = subprocess.run(*args)\n",
    "                        \n",
    "            lst = time.time()\n",
    "            \n",
    "            if process.returncode != 0:\n",
    "                print(args[0] + ' failed to run')\n",
    "\n",
    "                continue\n",
    "            \n",
    "            times[i] = lst - fst\n",
    "            \n",
    "        mtime = median(times)\n",
    "        \n",
    "        process = subprocess.Popen(*args)\n",
    "        \n",
    "        # Approximate running time of the process is known\n",
    "        # The process has just been started asynchronously\n",
    "        # Measure its memory usage (which is complicated)\n",
    "        pss_mems = [-1 for i in range(self.mtimes)]\n",
    "        uss_mems = [-1 for i in range(self.mtimes)]\n",
    "        for i in range(self.mtimes):\n",
    "            if process.poll() is not None:\n",
    "                break # the process no longer runs, break\n",
    "\n",
    "            # the process will finish when you least expect it\n",
    "            # so wrap everything into try-except and handle it\n",
    "            try:\n",
    "                p = psutil.Process(process.pid)\n",
    "                mem = p.memory_full_info()\n",
    "\n",
    "                # total private memory + proporional size for the 3pp libraries\n",
    "                pss_mems[i] = mem.pss\n",
    "                # total private memory of a process (unique to the process)\n",
    "                uss_mems[i] = mem.uss\n",
    "            except: \n",
    "                break # the process no longer runs, break\n",
    "\n",
    "            time.sleep(mtime / self.mtimes)\n",
    "            \n",
    "            \n",
    "        return [median(times), max(pss_mems), max(uss_mems)]"
   ]
  },
  {
   "cell_type": "markdown",
   "metadata": {},
   "source": [
    "# Perform the measurements"
   ]
  },
  {
   "cell_type": "code",
   "execution_count": 34,
   "metadata": {
    "collapsed": true
   },
   "outputs": [],
   "source": [
    "password, salt = 'password', 'salt'"
   ]
  },
  {
   "cell_type": "code",
   "execution_count": 35,
   "metadata": {
    "collapsed": true
   },
   "outputs": [],
   "source": [
    "klens =  [1, 10, 100, 1000, 10000]"
   ]
  },
  {
   "cell_type": "code",
   "execution_count": 36,
   "metadata": {
    "collapsed": true
   },
   "outputs": [],
   "source": [
    "tcosts = [1, 10, 25, 50, 75, 100]"
   ]
  },
  {
   "cell_type": "code",
   "execution_count": 37,
   "metadata": {
    "collapsed": true
   },
   "outputs": [],
   "source": [
    "mcosts = [3, 10, 100, 1000, 10000] # there must be at least 3 rows in the memory matrix"
   ]
  },
  {
   "cell_type": "code",
   "execution_count": 38,
   "metadata": {
    "collapsed": true
   },
   "outputs": [],
   "source": [
    "observer = ProcessObserver(ntimes=1, mtimes=5)"
   ]
  },
  {
   "cell_type": "code",
   "execution_count": null,
   "metadata": {
    "collapsed": true
   },
   "outputs": [],
   "source": [
    "def run_one_configuration(matrix):\n",
    "    option = matrix['option']\n",
    "\n",
    "    threads = matrix['threads']\n",
    "    columns = matrix['columns']\n",
    "\n",
    "    sponge = matrix['sponge']\n",
    "    rounds = matrix['rounds']\n",
    "    blocks = matrix['blocks']\n",
    "\n",
    "    bench = matrix['bench']\n",
    "\n",
    "    [sponge, _] = compose_sponge_name(sponge)\n",
    "\n",
    "    name = compose_lyra2_name(\n",
    "        option, threads, columns, sponge, rounds, blocks\n",
    "    )\n",
    "    \n",
    "    executable0 = build_path0.joinpath(name)\n",
    "    # Java implementataion accepts sponge type, number of rounds etc as runtime parameters\n",
    "    executable1 = build_path1.joinpath('lyra2-1.2-SNAPSHOT-jar-with-dependencies.jar')\n",
    "\n",
    "    time_data0 = {}\n",
    "    time_data1 = {}\n",
    "    \n",
    "    for klen, tcost, mcost in itertools.product(klens, tcosts, mcosts):\n",
    "        \n",
    "        time_data0[klen, tcost, mcost] = observer.run([\n",
    "            executable0\n",
    "            , password\n",
    "            , salt\n",
    "            , str(klen)\n",
    "            , str(tcost)\n",
    "            , str(mcost)\n",
    "        ])\n",
    "        \n",
    "        time_data1[klen, tcost, mcost] = observer.run([\n",
    "            'java'\n",
    "            , '-jar'         , str(executable1)\n",
    "            , '--blocks'     , str(blocks)\n",
    "            , '--columns'    , str(columns)\n",
    "            , '--half-rounds', str(rounds)\n",
    "            , '--sponge'     , sponge\n",
    "            , password\n",
    "            , salt\n",
    "            , str(klen)\n",
    "            , str(tcost)\n",
    "            , str(mcost)\n",
    "        ])\n",
    "        \n",
    "        print(name, klen, tcost, mcost)\n",
    "        print(time_data1[klen, tcost, mcost])\n",
    "        \n",
    "    return name, time_data0, time_data1"
   ]
  },
  {
   "cell_type": "code",
   "execution_count": null,
   "metadata": {},
   "outputs": [
    {
     "name": "stdout",
     "output_type": "stream",
     "text": [
      "lyra2-generic-x86-64-threads-1-columns-256-sponge-blake2b-rounds-1-blocks-8 1 1 3\n",
      "[0.2035067081451416, 20201472, 16752640]\n",
      "lyra2-generic-x86-64-threads-1-columns-256-sponge-blake2b-rounds-1-blocks-12 1 1 3\n",
      "[0.2047107219696045, 18091008, 14639104]\n",
      "lyra2-generic-x86-64-threads-1-columns-256-sponge-blake2b-rounds-12-blocks-8 1 1 3\n",
      "[0.21818923950195312, 20742144, 17350656]\n",
      "lyra2-generic-x86-64-threads-1-columns-256-sponge-blake2b-rounds-12-blocks-12 1 1 3\n",
      "[0.22814536094665527, 22297600, 17821696]\n",
      "lyra2-generic-x86-64-threads-1-columns-256-sponge-blake2b-rounds-1-blocks-8 1 1 10\n",
      "[0.2931973934173584, 20330496, 16859136]\n",
      "lyra2-generic-x86-64-threads-1-columns-256-sponge-blake2b-rounds-1-blocks-12 1 1 10\n",
      "[0.25942277908325195, 23014400, 19554304]\n",
      "lyra2-generic-x86-64-threads-1-columns-256-sponge-blake2b-rounds-12-blocks-8 1 1 10\n",
      "[0.3033943176269531, 24082432, 17686528]\n",
      "lyra2-generic-x86-64-threads-1-columns-256-sponge-blake2b-rounds-12-blocks-12 1 1 10\n",
      "[0.3016843795776367, 24548352, 17928192]\n",
      "lyra2-generic-x86-64-threads-1-columns-256-sponge-blake2b-rounds-1-blocks-8 1 1 100\n",
      "[0.38074326515197754, 29131776, 25669632]\n",
      "lyra2-generic-x86-64-threads-1-columns-256-sponge-blake2b-rounds-1-blocks-12 1 1 100\n",
      "[0.4385712146759033, 23586816, 19107840]\n",
      "lyra2-generic-x86-64-threads-1-columns-256-sponge-blake2b-rounds-12-blocks-8 1 1 100\n",
      "[0.9044420719146729, 30675968, 27258880]\n",
      "lyra2-generic-x86-64-threads-1-columns-256-sponge-blake2b-rounds-12-blocks-12 1 1 100\n",
      "[1.16591215133667, 39873536, 35418112]\n",
      "lyra2-generic-x86-64-threads-1-columns-256-sponge-blake2b-rounds-1-blocks-8 1 1 1000\n",
      "[1.4850265979766846, 98632704, 95191040]\n",
      "lyra2-generic-x86-64-threads-1-columns-256-sponge-blake2b-rounds-1-blocks-12 1 1 1000\n",
      "[1.6525368690490723, 88054784, 83570688]\n",
      "lyra2-generic-x86-64-threads-1-columns-256-sponge-blake2b-rounds-12-blocks-8 1 1 1000\n",
      "[5.54168438911438, 77521920, 74080256]\n",
      "lyra2-generic-x86-64-threads-1-columns-256-sponge-blake2b-rounds-12-blocks-12 1 1 1000\n",
      "[5.410313606262207, 87531520, 84066304]\n",
      "lyra2-generic-x86-64-threads-1-columns-256-sponge-blake2b-rounds-1-blocks-8 1 1 10000\n",
      "[7.291692733764648, 378650624, 375193600]\n",
      "lyra2-generic-x86-64-threads-1-columns-256-sponge-blake2b-rounds-1-blocks-8 1 10 3\n",
      "[0.257523775100708, 23747584, 20389888]\n",
      "lyra2-generic-x86-64-threads-1-columns-256-sponge-blake2b-rounds-1-blocks-8 1 10 10\n",
      "[0.2643272876739502, 39796736, 35299328]\n",
      "lyra2-generic-x86-64-threads-1-columns-256-sponge-blake2b-rounds-1-blocks-12 1 1 10000\n",
      "[8.011014938354492, 529960960, 526475264]\n",
      "lyra2-generic-x86-64-threads-1-columns-256-sponge-blake2b-rounds-1-blocks-8 1 10 100\n",
      "[0.5544993877410889, 60840960, 56860672]\n",
      "lyra2-generic-x86-64-threads-1-columns-256-sponge-blake2b-rounds-1-blocks-12 1 10 3\n",
      "[0.3546936511993408, 20599808, 17186816]\n",
      "lyra2-generic-x86-64-threads-1-columns-256-sponge-blake2b-rounds-1-blocks-12 1 10 10\n",
      "[0.34972620010375977, 26080256, 22675456]\n",
      "lyra2-generic-x86-64-threads-1-columns-256-sponge-blake2b-rounds-1-blocks-12 1 10 100\n",
      "[1.0412788391113281, 67548160, 64090112]\n",
      "lyra2-generic-x86-64-threads-1-columns-256-sponge-blake2b-rounds-1-blocks-8 1 10 1000\n",
      "[4.6444878578186035, 234620928, 231182336]\n"
     ]
    }
   ],
   "source": [
    "measurements0 = {}\n",
    "measurements1 = {}\n",
    "\n",
    "with multiprocessing.Pool(4) as pool:\n",
    "    for name, measurement0, measurement1 in pool.map(run_one_configuration, unlist_values(params['matrix'])):\n",
    "        measurements0[name] = measurement0\n",
    "        measurements1[name] = measurement1"
   ]
  }
 ],
 "metadata": {
  "kernelspec": {
   "display_name": "Python (lyra2-compare-venv-3.6.2)",
   "language": "python",
   "name": "lyra2-compare-venv-3.6.2"
  },
  "language_info": {
   "codemirror_mode": {
    "name": "ipython",
    "version": 3
   },
   "file_extension": ".py",
   "mimetype": "text/x-python",
   "name": "python",
   "nbconvert_exporter": "python",
   "pygments_lexer": "ipython3",
   "version": "3.6.2"
  }
 },
 "nbformat": 4,
 "nbformat_minor": 2
}
