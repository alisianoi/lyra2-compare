{
 "cells": [
  {
   "cell_type": "code",
   "execution_count": 236,
   "metadata": {
    "collapsed": true
   },
   "outputs": [],
   "source": [
    "import sys\n",
    "import yaml\n",
    "import itertools\n",
    "import subprocess"
   ]
  },
  {
   "cell_type": "code",
   "execution_count": 237,
   "metadata": {
    "collapsed": true
   },
   "outputs": [],
   "source": [
    "from pathlib import Path"
   ]
  },
  {
   "cell_type": "markdown",
   "metadata": {},
   "source": [
    "# Compile original Lyra2 implementations"
   ]
  },
  {
   "cell_type": "markdown",
   "metadata": {},
   "source": [
    "Need to import python functions that compile Lyra from a git submodule. Manipulate path as per https://stackoverflow.com/a/29747054/1269892"
   ]
  },
  {
   "cell_type": "code",
   "execution_count": 238,
   "metadata": {
    "collapsed": true
   },
   "outputs": [],
   "source": [
    "sys.path.append(str(Path('../lyra/Lyra2/tests').resolve()))"
   ]
  },
  {
   "cell_type": "code",
   "execution_count": 239,
   "metadata": {
    "collapsed": true
   },
   "outputs": [],
   "source": [
    "from harness import build_lyra2, unlist_values\n",
    "from harness import compose_sponge_name, compose_lyra2_name"
   ]
  },
  {
   "cell_type": "code",
   "execution_count": 240,
   "metadata": {
    "collapsed": true
   },
   "outputs": [],
   "source": [
    "with open('harness.yml', 'r') as config:\n",
    "    params = yaml.load(config)"
   ]
  },
  {
   "cell_type": "code",
   "execution_count": 241,
   "metadata": {
    "collapsed": true
   },
   "outputs": [],
   "source": [
    "build_lyra2(params)"
   ]
  },
  {
   "cell_type": "code",
   "execution_count": 242,
   "metadata": {
    "collapsed": true
   },
   "outputs": [],
   "source": [
    "build_path0 = Path('./bin42').resolve()\n",
    "if not build_path0.exists():\n",
    "    print('Could not find ./bin42, directory for original executables')"
   ]
  },
  {
   "cell_type": "markdown",
   "metadata": {},
   "source": [
    "# Compile ported Java implementation"
   ]
  },
  {
   "cell_type": "code",
   "execution_count": 243,
   "metadata": {},
   "outputs": [
    {
     "data": {
      "text/plain": [
       "CompletedProcess(args=['mvn', 'package', '-f', '../lyra2-java', '-Plyra2-compare', '-DskipTests'], returncode=0)"
      ]
     },
     "execution_count": 243,
     "metadata": {},
     "output_type": "execute_result"
    }
   ],
   "source": [
    "subprocess.run(['mvn', 'package', '-f', '../lyra2-java', '-Plyra2-compare', '-DskipTests'])"
   ]
  },
  {
   "cell_type": "code",
   "execution_count": 244,
   "metadata": {
    "collapsed": true
   },
   "outputs": [],
   "source": [
    "build_path1 = Path('./target').resolve()\n",
    "if not build_path1.exists():\n",
    "    print('Could not ./target, directory for compiled executables')"
   ]
  },
  {
   "cell_type": "markdown",
   "metadata": {},
   "source": [
    "# Class to measure time and memory usage"
   ]
  },
  {
   "cell_type": "markdown",
   "metadata": {},
   "source": [
    "Resources used for memory measurements:\n",
    "\n",
    "https://stackoverflow.com/questions/22372960/is-this-explanation-about-vss-rss-pss-uss-accurate"
   ]
  },
  {
   "cell_type": "code",
   "execution_count": 245,
   "metadata": {
    "collapsed": true
   },
   "outputs": [],
   "source": [
    "import time\n",
    "import psutil"
   ]
  },
  {
   "cell_type": "code",
   "execution_count": 246,
   "metadata": {
    "collapsed": true
   },
   "outputs": [],
   "source": [
    "from statistics import median"
   ]
  },
  {
   "cell_type": "code",
   "execution_count": 247,
   "metadata": {
    "collapsed": true
   },
   "outputs": [],
   "source": [
    "class ProcessObserver:\n",
    "    def __init__(self, ntimes=3, mtimes=3):\n",
    "        # Number of times to measure elapsed time\n",
    "        self.ntimes = ntimes\n",
    "        # Number of times to measure consumed memory\n",
    "        self.mtimes = mtimes\n",
    "\n",
    "    def run(self, *args):\n",
    "        # Run the process self.ntimes and see how long it takes\n",
    "        times = [-1 for i in range(self.ntimes)]\n",
    "        for i in range(self.ntimes):\n",
    "            fst = time.time()\n",
    "            \n",
    "            process = subprocess.run(*args)\n",
    "                        \n",
    "            lst = time.time()\n",
    "            \n",
    "            if process.returncode != 0:\n",
    "                print(args[0] + ' failed to run')\n",
    "\n",
    "                continue\n",
    "            \n",
    "            times[i] = lst - fst\n",
    "            \n",
    "        mtime = median(times)\n",
    "        \n",
    "        process = subprocess.Popen(*args)\n",
    "        \n",
    "        # Approximate running time of the process is known\n",
    "        # The process has just been started asynchronously\n",
    "        # Measure its memory usage (which is complicated)\n",
    "        pss_mems = [-1 for i in range(self.mtimes)]\n",
    "        uss_mems = [-1 for i in range(self.mtimes)]\n",
    "        for i in range(self.mtimes):\n",
    "            if process.poll() is not None:\n",
    "                break # the process no longer runs, break\n",
    "\n",
    "            # the process will finish when you least expect it\n",
    "            # so wrap everything into try-except and handle it\n",
    "            try:\n",
    "                p = psutil.Process(process.pid)\n",
    "                mem = p.memory_full_info()\n",
    "\n",
    "                # total private memory + proporional size for the 3pp libraries\n",
    "                pss_mems[i] = mem.pss\n",
    "                # total private memory of a process (unique to the process)\n",
    "                uss_mems[i] = mem.uss\n",
    "            except: \n",
    "                break # the process no longer runs, break\n",
    "\n",
    "            time.sleep(mtime / self.mtimes)\n",
    "            \n",
    "            \n",
    "        return [median(times), max(pss_mems), max(uss_mems)]"
   ]
  },
  {
   "cell_type": "markdown",
   "metadata": {},
   "source": [
    "# Perform the measurements"
   ]
  },
  {
   "cell_type": "code",
   "execution_count": 248,
   "metadata": {
    "collapsed": true
   },
   "outputs": [],
   "source": [
    "password, salt = 'password', 'salt'"
   ]
  },
  {
   "cell_type": "code",
   "execution_count": 249,
   "metadata": {
    "collapsed": true
   },
   "outputs": [],
   "source": [
    "klens = [1, 10, 100]"
   ]
  },
  {
   "cell_type": "code",
   "execution_count": 250,
   "metadata": {
    "collapsed": true
   },
   "outputs": [],
   "source": [
    "tcosts = [1, 10, 100]"
   ]
  },
  {
   "cell_type": "code",
   "execution_count": 251,
   "metadata": {
    "collapsed": true
   },
   "outputs": [],
   "source": [
    "mcosts = [3, 10, 100] # there must be at least 3 rows in the memory matrix"
   ]
  },
  {
   "cell_type": "code",
   "execution_count": 252,
   "metadata": {
    "collapsed": true
   },
   "outputs": [],
   "source": [
    "observer = ProcessObserver(ntimes=3, mtimes=5)"
   ]
  },
  {
   "cell_type": "code",
   "execution_count": 253,
   "metadata": {},
   "outputs": [],
   "source": [
    "time_data0 = {}\n",
    "time_data1 = {}\n",
    "\n",
    "# Java implementataion accepts sponge type, number of rounds etc as runtime parameters\n",
    "# which is why the name of the executable does not change in contrast to original\n",
    "executable1 = build_path1.joinpath('lyra2-1.2-SNAPSHOT-jar-with-dependencies.jar')\n",
    "\n",
    "for matrix in unlist_values(params['matrix']):\n",
    "    option = matrix['option']\n",
    "\n",
    "    threads = matrix['threads']\n",
    "    columns = matrix['columns']\n",
    "\n",
    "    sponge = matrix['sponge']\n",
    "    rounds = matrix['rounds']\n",
    "    blocks = matrix['blocks']\n",
    "\n",
    "    bench = matrix['bench']\n",
    "\n",
    "    [sponge, _] = compose_sponge_name(sponge)\n",
    "\n",
    "    name = compose_lyra2_name(\n",
    "        option, threads, columns, sponge, rounds, blocks\n",
    "    )\n",
    "    \n",
    "    executable0 = build_path0.joinpath(name)    \n",
    "    \n",
    "    time_data0[name] = {}\n",
    "    time_data1[name] = {}\n",
    "    \n",
    "    for klen, tcost, mcost in itertools.product(klens, tcosts, mcosts):\n",
    "        \n",
    "        time_data0[name][klen, tcost, mcost] = observer.run([\n",
    "            executable0\n",
    "            , password\n",
    "            , salt\n",
    "            , str(klen)\n",
    "            , str(tcost)\n",
    "            , str(mcost)\n",
    "        ])\n",
    "        \n",
    "        time_data1[name][klen, tcost, mcost] = observer.run([\n",
    "            'java'\n",
    "            , '-jar'         , str(executable1)\n",
    "            , '--blocks'     , str(blocks)\n",
    "            , '--columns'    , str(columns)\n",
    "            , '--full-rounds', str(rounds)\n",
    "            , '--half-rounds', str(rounds)\n",
    "            , '--sponge'     , sponge\n",
    "            , password\n",
    "            , salt\n",
    "            , str(klen)\n",
    "            , str(tcost)\n",
    "            , str(mcost)\n",
    "        ])"
   ]
  },
  {
   "cell_type": "code",
   "execution_count": 254,
   "metadata": {},
   "outputs": [
    {
     "name": "stdout",
     "output_type": "stream",
     "text": [
      "{'lyra2-generic-x86-64-threads-1-columns-256-sponge-blake2b-rounds-1-blocks-8': {(1, 1, 3): [0.0023784637451171875, 178176, 139264], (1, 1, 10): [0.0023124217987060547, 281600, 241664], (1, 1, 100): [0.0038335323333740234, 1821696, 1785856], (1, 10, 3): [0.0023217201232910156, 182272, 143360], (1, 10, 10): [0.002820253372192383, 334848, 299008], (1, 10, 100): [0.009460687637329102, 1819648, 1785856], (1, 100, 3): [0.004198312759399414, 230400, 188416], (1, 100, 10): [0.008324623107910156, 347136, 311296], (1, 100, 100): [0.06583452224731445, 1825792, 1785856], (10, 1, 3): [0.0023736953735351562, 178176, 143360], (10, 1, 10): [0.0027043819427490234, 265216, 229376], (10, 1, 100): [0.0038983821868896484, 1825792, 1785856], (10, 10, 3): [0.003268003463745117, 187392, 151552], (10, 10, 10): [0.0028243064880371094, 336896, 303104], (10, 10, 100): [0.009592771530151367, 1825792, 1785856], (10, 100, 3): [0.004096269607543945, 229376, 188416], (10, 100, 10): [0.009565353393554688, 352256, 311296], (10, 100, 100): [0.06638717651367188, 1826816, 1785856], (100, 1, 3): [0.005524635314941406, 182272, 143360], (100, 1, 10): [0.0022804737091064453, 330752, 290816], (100, 1, 100): [0.004342079162597656, 1825792, 1785856], (100, 10, 3): [0.002444028854370117, 183296, 143360], (100, 10, 10): [0.003013134002685547, 280576, 241664], (100, 10, 100): [0.009725809097290039, 1824768, 1785856], (100, 100, 3): [0.014194011688232422, 227328, 188416], (100, 100, 10): [0.008432626724243164, 350208, 311296], (100, 100, 100): [0.06574153900146484, 1826816, 1785856]}, 'lyra2-generic-x86-64-threads-1-columns-512-sponge-blake2b-rounds-1-blocks-8': {(1, 1, 3): [0.0022547245025634766, 182272, 143360], (1, 1, 10): [0.0024945735931396484, 280576, 241664], (1, 1, 100): [0.005596160888671875, 3364864, 3325952], (1, 10, 3): [0.0025177001953125, 178176, 155648], (1, 10, 10): [0.011071920394897461, 329728, 290816], (1, 10, 100): [0.018053054809570312, 3467264, 3428352], (1, 100, 3): [0.0061910152435302734, 276480, 237568], (1, 100, 10): [0.014869928359985352, 514048, 475136], (1, 100, 100): [0.13640379905700684, 3462144, 3424256], (10, 1, 3): [0.0023636817932128906, 182272, 143360], (10, 1, 10): [0.0027627944946289062, 399360, 360448], (10, 1, 100): [0.014127016067504883, 3463168, 3424256], (10, 10, 3): [0.0029778480529785156, 235520, 196608], (10, 10, 10): [0.0038678646087646484, 509952, 475136], (10, 10, 100): [0.018059730529785156, 3462144, 3424256], (10, 100, 3): [0.007138252258300781, 280576, 241664], (10, 100, 10): [0.015388011932373047, 514048, 475136], (10, 100, 100): [0.13525962829589844, 3463168, 3424256], (100, 1, 3): [0.0023529529571533203, 181248, 143360], (100, 1, 10): [0.003088235855102539, 264192, 225280], (100, 1, 100): [0.006140232086181641, 3463168, 3424256], (100, 10, 3): [0.0037713050842285156, 178176, 139264], (100, 10, 10): [0.003628969192504883, 509952, 475136], (100, 10, 100): [0.019715070724487305, 3465216, 3424256], (100, 100, 3): [0.018245697021484375, 185344, 143360], (100, 100, 10): [0.015365839004516602, 514048, 475136], (100, 100, 100): [0.14028501510620117, 3463168, 3424256]}}\n"
     ]
    }
   ],
   "source": [
    "print(time_data0)"
   ]
  },
  {
   "cell_type": "code",
   "execution_count": 255,
   "metadata": {},
   "outputs": [
    {
     "name": "stdout",
     "output_type": "stream",
     "text": [
      "{'lyra2-generic-x86-64-threads-1-columns-256-sponge-blake2b-rounds-1-blocks-8': {(1, 1, 3): [0.09749150276184082, 26006528, 25931776], (1, 1, 10): [0.09621047973632812, 25903104, 25825280], (1, 1, 100): [0.14840960502624512, 28310528, 28233728], (1, 10, 3): [0.11756038665771484, 26899456, 26824704], (1, 10, 10): [0.12423467636108398, 27435008, 27365376], (1, 10, 100): [0.2825791835784912, 29649920, 29585408], (1, 100, 3): [0.1739211082458496, 27957248, 27885568], (1, 100, 10): [0.27100563049316406, 28127232, 28061696], (1, 100, 100): [1.6378390789031982, 33502208, 33435648], (10, 1, 3): [0.09101653099060059, 25732096, 25665536], (10, 1, 10): [0.09831881523132324, 26327040, 26247168], (10, 1, 100): [0.1426715850830078, 28695552, 28626944], (10, 10, 3): [0.11502289772033691, 27052032, 26972160], (10, 10, 10): [0.13275957107543945, 27461632, 27381760], (10, 10, 100): [0.2934386730194092, 29809664, 29728768], (10, 100, 3): [0.174269437789917, 26490880, 26419200], (10, 100, 10): [0.2961463928222656, 27386880, 27320320], (10, 100, 100): [1.7508821487426758, 34827264, 34750464], (100, 1, 3): [0.1051483154296875, 25997312, 25915392], (100, 1, 10): [0.1033487319946289, 26425344, 26357760], (100, 1, 100): [0.16658282279968262, 35155968, 35078144], (100, 10, 3): [0.11706733703613281, 26311680, 26238976], (100, 10, 10): [0.13114452362060547, 27371520, 27299840], (100, 10, 100): [0.35929131507873535, 30141440, 30064640], (100, 100, 3): [0.1864180564880371, 27619328, 27545600], (100, 100, 10): [0.27918362617492676, 28181504, 28114944], (100, 100, 100): [1.6276867389678955, 34845696, 34775040]}, 'lyra2-generic-x86-64-threads-1-columns-512-sponge-blake2b-rounds-1-blocks-8': {(1, 1, 3): [0.09876275062561035, 26095616, 26030080], (1, 1, 10): [0.11115264892578125, 26760192, 26685440], (1, 1, 100): [0.19369792938232422, 32048128, 31977472], (1, 10, 3): [0.11558055877685547, 26420224, 26353664], (1, 10, 10): [0.15653586387634277, 27065344, 27000832], (1, 10, 100): [0.46545886993408203, 33120256, 33050624], (1, 100, 3): [0.22212815284729004, 27804672, 27734016], (1, 100, 10): [0.4177584648132324, 28328960, 28254208], (1, 100, 100): [3.1124892234802246, 36042752, 35979264], (10, 1, 3): [0.09758687019348145, 26375168, 26304512], (10, 1, 10): [0.113555908203125, 26629120, 26558464], (10, 1, 100): [0.19942235946655273, 32583680, 32518144], (10, 10, 3): [0.11987662315368652, 26905600, 26828800], (10, 10, 10): [0.15337824821472168, 27691008, 27619328], (10, 10, 100): [0.466998815536499, 31432704, 31358976], (10, 100, 3): [0.20783495903015137, 28215296, 28143616], (10, 100, 10): [0.42129063606262207, 28465152, 28401664], (10, 100, 100): [3.127631902694702, 36557824, 36474880], (100, 1, 3): [0.10100674629211426, 26337280, 26271744], (100, 1, 10): [0.1110680103302002, 26491904, 26423296], (100, 1, 100): [0.23527741432189941, 32064512, 32002048], (100, 10, 3): [0.13605380058288574, 27742208, 27664384], (100, 10, 10): [0.21094322204589844, 28144640, 28078080], (100, 10, 100): [0.5784084796905518, 31454208, 31371264], (100, 100, 3): [0.22328782081604004, 28365824, 28299264], (100, 100, 10): [0.49127984046936035, 27843584, 27783168], (100, 100, 100): [3.3101699352264404, 35657728, 35590144]}}\n"
     ]
    }
   ],
   "source": [
    "print(time_data1)"
   ]
  }
 ],
 "metadata": {
  "kernelspec": {
   "display_name": "Python (lyra2-compare-venv-3.6.2)",
   "language": "python",
   "name": "lyra2-compare-venv-3.6.2"
  },
  "language_info": {
   "codemirror_mode": {
    "name": "ipython",
    "version": 3
   },
   "file_extension": ".py",
   "mimetype": "text/x-python",
   "name": "python",
   "nbconvert_exporter": "python",
   "pygments_lexer": "ipython3",
   "version": "3.6.2"
  }
 },
 "nbformat": 4,
 "nbformat_minor": 2
}
