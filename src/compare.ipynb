{
 "cells": [
  {
   "cell_type": "code",
   "execution_count": 121,
   "metadata": {
    "collapsed": true
   },
   "outputs": [],
   "source": [
    "import sys\n",
    "import yaml\n",
    "import itertools\n",
    "import subprocess"
   ]
  },
  {
   "cell_type": "code",
   "execution_count": 122,
   "metadata": {
    "collapsed": true
   },
   "outputs": [],
   "source": [
    "from pathlib import Path"
   ]
  },
  {
   "cell_type": "markdown",
   "metadata": {},
   "source": [
    "# Compile original Lyra2 implementations"
   ]
  },
  {
   "cell_type": "markdown",
   "metadata": {},
   "source": [
    "Need to import python functions that compile Lyra from a git submodule. Manipulate path as per https://stackoverflow.com/a/29747054/1269892"
   ]
  },
  {
   "cell_type": "code",
   "execution_count": 123,
   "metadata": {
    "collapsed": true
   },
   "outputs": [],
   "source": [
    "sys.path.append(str(Path('../lyra/Lyra2/tests').resolve()))"
   ]
  },
  {
   "cell_type": "code",
   "execution_count": 124,
   "metadata": {
    "collapsed": true
   },
   "outputs": [],
   "source": [
    "from harness import build_lyra2, unlist_values\n",
    "from harness import compose_sponge_name, compose_lyra2_name"
   ]
  },
  {
   "cell_type": "code",
   "execution_count": 125,
   "metadata": {
    "collapsed": true
   },
   "outputs": [],
   "source": [
    "with open('harness.yml', 'r') as config:\n",
    "    params = yaml.load(config)"
   ]
  },
  {
   "cell_type": "code",
   "execution_count": 126,
   "metadata": {
    "collapsed": true
   },
   "outputs": [],
   "source": [
    "build_lyra2(params)"
   ]
  },
  {
   "cell_type": "code",
   "execution_count": 127,
   "metadata": {
    "collapsed": true
   },
   "outputs": [],
   "source": [
    "build_path0 = Path('./bin42').resolve()\n",
    "if not build_path0.exists():\n",
    "    print('Could not find ./bin42, directory for original executables')"
   ]
  },
  {
   "cell_type": "markdown",
   "metadata": {},
   "source": [
    "# Compile ported Java implementation"
   ]
  },
  {
   "cell_type": "code",
   "execution_count": 128,
   "metadata": {},
   "outputs": [
    {
     "data": {
      "text/plain": [
       "CompletedProcess(args=['mvn', 'package', '-f', '../lyra2-java', '-Plyra2-compare', '-DskipTests'], returncode=0)"
      ]
     },
     "execution_count": 128,
     "metadata": {},
     "output_type": "execute_result"
    }
   ],
   "source": [
    "subprocess.run(['mvn', 'package', '-f', '../lyra2-java', '-Plyra2-compare', '-DskipTests'])"
   ]
  },
  {
   "cell_type": "code",
   "execution_count": 129,
   "metadata": {
    "collapsed": true
   },
   "outputs": [],
   "source": [
    "build_path1 = Path('./target').resolve()\n",
    "if not build_path1.exists():\n",
    "    print('Could not ./target, directory for compiled executables')"
   ]
  },
  {
   "cell_type": "markdown",
   "metadata": {},
   "source": [
    "# Execution observer"
   ]
  },
  {
   "cell_type": "code",
   "execution_count": 130,
   "metadata": {
    "collapsed": true
   },
   "outputs": [],
   "source": [
    "import time"
   ]
  },
  {
   "cell_type": "code",
   "execution_count": 131,
   "metadata": {
    "collapsed": true
   },
   "outputs": [],
   "source": [
    "from statistics import median"
   ]
  },
  {
   "cell_type": "code",
   "execution_count": 132,
   "metadata": {
    "collapsed": true
   },
   "outputs": [],
   "source": [
    "class ProcessObserver:\n",
    "    def __init__(self, ntimes=3):\n",
    "        self.ntimes = ntimes\n",
    "\n",
    "    def run(self, *args):\n",
    "        times = [-1 for i in range(self.ntimes)]\n",
    "        for i in range(self.ntimes):\n",
    "            fst = time.time()\n",
    "            \n",
    "            process = subprocess.run(*args)\n",
    "                        \n",
    "            lst = time.time()\n",
    "            \n",
    "            if process.returncode != 0:\n",
    "                print(args[0] + ' failed to run')\n",
    "\n",
    "                continue\n",
    "            \n",
    "            times[i] = lst - fst\n",
    "            \n",
    "        return [median(times)]"
   ]
  },
  {
   "cell_type": "markdown",
   "metadata": {},
   "source": [
    "# Compare the implementations"
   ]
  },
  {
   "cell_type": "code",
   "execution_count": 133,
   "metadata": {
    "collapsed": true
   },
   "outputs": [],
   "source": [
    "password, salt = 'password', 'salt'"
   ]
  },
  {
   "cell_type": "code",
   "execution_count": 134,
   "metadata": {
    "collapsed": true
   },
   "outputs": [],
   "source": [
    "klens = [1, 10, 100]"
   ]
  },
  {
   "cell_type": "code",
   "execution_count": 135,
   "metadata": {
    "collapsed": true
   },
   "outputs": [],
   "source": [
    "tcosts = [1, 10, 100]"
   ]
  },
  {
   "cell_type": "code",
   "execution_count": 136,
   "metadata": {
    "collapsed": true
   },
   "outputs": [],
   "source": [
    "mcosts = [3, 10, 100] # there must be at least 3 rows in the memory matrix"
   ]
  },
  {
   "cell_type": "code",
   "execution_count": 137,
   "metadata": {
    "collapsed": true
   },
   "outputs": [],
   "source": [
    "observer = ProcessObserver(ntimes=1)"
   ]
  },
  {
   "cell_type": "code",
   "execution_count": 138,
   "metadata": {},
   "outputs": [],
   "source": [
    "time_data0 = {}\n",
    "time_data1 = {}\n",
    "\n",
    "for matrix in unlist_values(params['matrix']):\n",
    "    option = matrix['option']\n",
    "\n",
    "    threads = matrix['threads']\n",
    "    columns = matrix['columns']\n",
    "\n",
    "    sponge = matrix['sponge']\n",
    "    rounds = matrix['rounds']\n",
    "    blocks = matrix['blocks']\n",
    "\n",
    "    bench = matrix['bench']\n",
    "\n",
    "    [sponge, _] = compose_sponge_name(sponge)\n",
    "\n",
    "    name = compose_lyra2_name(\n",
    "        option, threads, columns, sponge, rounds, blocks\n",
    "    )\n",
    "    \n",
    "    executable0 = build_path0.joinpath(name)\n",
    "    \n",
    "    time_data0[name] = {}\n",
    "    \n",
    "    for klen, tcost, mcost in itertools.product(klens, tcosts, mcosts):\n",
    "        fst = time.time()\n",
    "        \n",
    "        verdict = observer.run([executable0, password, salt, str(klen), str(tcost), str(mcost)])\n",
    "    \n",
    "        time_data0[name][klen, tcost, mcost] = verdict[0]"
   ]
  },
  {
   "cell_type": "code",
   "execution_count": 139,
   "metadata": {},
   "outputs": [
    {
     "name": "stdout",
     "output_type": "stream",
     "text": [
      "{'lyra2-generic-x86-64-threads-1-columns-256-sponge-blake2b-rounds-1-blocks-8': {(1, 1, 3): 0.003759622573852539, (1, 1, 10): 0.002137422561645508, (1, 1, 100): 0.0035758018493652344, (1, 10, 3): 0.0072193145751953125, (1, 10, 10): 0.002790689468383789, (1, 10, 100): 0.011165380477905273, (1, 100, 3): 0.00498652458190918, (1, 100, 10): 0.00822305679321289, (1, 100, 100): 0.0665900707244873, (10, 1, 3): 0.0019631385803222656, (10, 1, 10): 0.0019085407257080078, (10, 1, 100): 0.003332376480102539, (10, 10, 3): 0.002104043960571289, (10, 10, 10): 0.0026426315307617188, (10, 10, 100): 0.00918436050415039, (10, 100, 3): 0.0037245750427246094, (10, 100, 10): 0.008621692657470703, (10, 100, 100): 0.06557989120483398, (100, 1, 3): 0.0022203922271728516, (100, 1, 10): 0.001833200454711914, (100, 1, 100): 0.003403902053833008, (100, 10, 3): 0.0020399093627929688, (100, 10, 10): 0.003084421157836914, (100, 10, 100): 0.009123802185058594, (100, 100, 3): 0.0036988258361816406, (100, 100, 10): 0.008669853210449219, (100, 100, 100): 0.0655970573425293}, 'lyra2-generic-x86-64-threads-1-columns-512-sponge-blake2b-rounds-1-blocks-8': {(1, 1, 3): 0.0021512508392333984, (1, 1, 10): 0.002249479293823242, (1, 1, 100): 0.0051174163818359375, (1, 10, 3): 0.002567768096923828, (1, 10, 10): 0.0032982826232910156, (1, 10, 100): 0.017765522003173828, (1, 100, 3): 0.0055828094482421875, (1, 100, 10): 0.014770269393920898, (1, 100, 100): 0.1354377269744873, (10, 1, 3): 0.0020723342895507812, (10, 1, 10): 0.002091646194458008, (10, 1, 100): 0.0046138763427734375, (10, 10, 3): 0.002473592758178711, (10, 10, 10): 0.0032918453216552734, (10, 10, 100): 0.01724076271057129, (10, 100, 3): 0.005767107009887695, (10, 100, 10): 0.014832496643066406, (10, 100, 100): 0.13656902313232422, (100, 1, 3): 0.00205230712890625, (100, 1, 10): 0.0020585060119628906, (100, 1, 100): 0.004713296890258789, (100, 10, 3): 0.0023283958435058594, (100, 10, 10): 0.003390073776245117, (100, 10, 100): 0.017925024032592773, (100, 100, 3): 0.005697965621948242, (100, 100, 10): 0.014599084854125977, (100, 100, 100): 0.13611245155334473}}\n"
     ]
    }
   ],
   "source": [
    "print(time_data0)"
   ]
  },
  {
   "cell_type": "code",
   "execution_count": 140,
   "metadata": {
    "collapsed": true
   },
   "outputs": [],
   "source": [
    "executable1 = build_path1.joinpath('lyra2-1.2-SNAPSHOT-jar-with-dependencies.jar')"
   ]
  }
 ],
 "metadata": {
  "kernelspec": {
   "display_name": "Python (lyra2-compare-venv-3.6.2)",
   "language": "python",
   "name": "lyra2-compare-venv-3.6.2"
  },
  "language_info": {
   "codemirror_mode": {
    "name": "ipython",
    "version": 3
   },
   "file_extension": ".py",
   "mimetype": "text/x-python",
   "name": "python",
   "nbconvert_exporter": "python",
   "pygments_lexer": "ipython3",
   "version": "3.6.2"
  }
 },
 "nbformat": 4,
 "nbformat_minor": 2
}
